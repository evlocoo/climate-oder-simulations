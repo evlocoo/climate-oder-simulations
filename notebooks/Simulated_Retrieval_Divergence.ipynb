{
 "cells": [
  {
   "cell_type": "code",
   "execution_count": 116,
   "id": "d498e2be-62e6-4750-a9bf-e723e5097020",
   "metadata": {},
   "outputs": [],
   "source": [
    "import numpy as np\n",
    "import matplotlib.pyplot as plt\n",
    "from IPython.display import display, Markdown\n",
    "%matplotlib inline\n",
    "\n",
    "plt.style.use('seaborn-v0_8-whitegrid')\n",
    "plt.rcParams['figure.figsize'] = (12, 7)\n",
    "plt.rcParams['figure.dpi'] = 100"
   ]
  },
  {
   "cell_type": "code",
   "execution_count": 148,
   "id": "fc9b5473-471d-4daa-9231-8653d18825cb",
   "metadata": {},
   "outputs": [],
   "source": [
    "def run_oder_simulation(observers=None, T=400, dt=1, threshold=0.7):\n",
    "    \"\"\"\n",
    "    Run the Observer-Dependent Entropy Retrieval (ODER) simulation.\n",
    "    \n",
    "    Parameters:\n",
    "    -----------\n",
    "    observers : dict, optional\n",
    "        Dictionary of observer parameters. If None, will use calibrated values.\n",
    "    T : int, optional\n",
    "        Total simulation time.\n",
    "    dt : float, optional\n",
    "        Time step size.\n",
    "    threshold : float, optional\n",
    "        Detection threshold.\n",
    "        \n",
    "    Returns:\n",
    "    --------\n",
    "    times : array\n",
    "        Time points.\n",
    "    S_obs : dict\n",
    "        Entropy values for each observer.\n",
    "    detection_times : dict\n",
    "        Detection times for each observer.\n",
    "    \"\"\"\n",
    "    if observers is None:\n",
    "        # Optimally calibrated parameters to match expected detection times\n",
    "        observers = {\n",
    "    \"O1\": {\"gamma\": 0.196, \"tau_char\": 4.2},    \n",
    "    \"O2\": {\"gamma\": 0.0208, \"tau_char\": 19.5}, \n",
    "    \"O3\": {\"gamma\": 0.00404, \"tau_char\": 90.0} \n",
    "}\n",
    "    \n",
    "    # Simulation parameters\n",
    "    S_max = 1.0\n",
    "    times = np.arange(0, T, dt)\n",
    "    \n",
    "    # Initialize separate arrays for each observer for better performance\n",
    "    S_O1 = np.zeros(len(times))\n",
    "    S_O2 = np.zeros(len(times))\n",
    "    S_O3 = np.zeros(len(times))\n",
    "    \n",
    "    # Initialize detection times\n",
    "    detection_time_O1 = None\n",
    "    detection_time_O2 = None\n",
    "    detection_time_O3 = None\n",
    "    \n",
    "    # Run simulation\n",
    "    for i in range(1, len(times)):\n",
    "        t = times[i]\n",
    "        \n",
    "        # Observer 1\n",
    "        gamma = observers[\"O1\"][\"gamma\"]\n",
    "        tau_char = observers[\"O1\"][\"tau_char\"]\n",
    "        prev_S = S_O1[i-1]\n",
    "        dS = gamma * (S_max - prev_S) * np.tanh(t / tau_char)\n",
    "        S_O1[i] = prev_S + dS * dt\n",
    "        \n",
    "        if detection_time_O1 is None and S_O1[i] >= threshold:\n",
    "            detection_time_O1 = t\n",
    "        \n",
    "        # Observer 2\n",
    "        gamma = observers[\"O2\"][\"gamma\"]\n",
    "        tau_char = observers[\"O2\"][\"tau_char\"]\n",
    "        prev_S = S_O2[i-1]\n",
    "        dS = gamma * (S_max - prev_S) * np.tanh(t / tau_char)\n",
    "        S_O2[i] = prev_S + dS * dt\n",
    "        \n",
    "        if detection_time_O2 is None and S_O2[i] >= threshold:\n",
    "            detection_time_O2 = t\n",
    "        \n",
    "        # Observer 3\n",
    "        gamma = observers[\"O3\"][\"gamma\"]\n",
    "        tau_char = observers[\"O3\"][\"tau_char\"]\n",
    "        prev_S = S_O3[i-1]\n",
    "        dS = gamma * (S_max - prev_S) * np.tanh(t / tau_char)\n",
    "        S_O3[i] = prev_S + dS * dt\n",
    "        \n",
    "        if detection_time_O3 is None and S_O3[i] >= threshold:\n",
    "            detection_time_O3 = t\n",
    "    \n",
    "    # Organize results for easier access\n",
    "    S_obs = {\n",
    "        \"O1\": S_O1,\n",
    "        \"O2\": S_O2,\n",
    "        \"O3\": S_O3\n",
    "    }\n",
    "    \n",
    "    detection_times = {\n",
    "        \"O1\": detection_time_O1,\n",
    "        \"O2\": detection_time_O2,\n",
    "        \"O3\": detection_time_O3\n",
    "    }\n",
    "    \n",
    "    return times, S_obs, detection_times, observers, threshold"
   ]
  },
  {
   "cell_type": "code",
   "execution_count": 150,
   "id": "1bce381c-85e3-4b5d-94de-4b7ed0d2824a",
   "metadata": {},
   "outputs": [],
   "source": [
    "def create_oder_plot(times, S_obs, detection_times, threshold, show_annotations=True):\n",
    "    \"\"\"Create a plot of entropy convergence for each observer.\"\"\"\n",
    "    fig, ax = plt.subplots(figsize=(12, 7))\n",
    "    \n",
    "    # Plot entropy curves\n",
    "    ax.plot(times, S_obs[\"O1\"], 'b-', linewidth=2.5, label='O1 (Real-time modeler)')\n",
    "    ax.plot(times, S_obs[\"O2\"], 'g--', linewidth=2.5, label='O2 (Institutional analyst)')\n",
    "    ax.plot(times, S_obs[\"O3\"], 'r:', linewidth=2.5, label='O3 (Policy communicator)')\n",
    "    \n",
    "    # Add threshold line\n",
    "    ax.axhline(y=threshold, color='k', linestyle='--', alpha=0.7, \n",
    "               label=f'Detection threshold ({threshold})')\n",
    "    \n",
    "    # Annotate detection times\n",
    "    if show_annotations:\n",
    "        for obs, color in zip([\"O1\", \"O2\", \"O3\"], ['blue', 'green', 'red']):\n",
    "            if detection_times[obs] is not None:\n",
    "                detection_time = detection_times[obs]\n",
    "                \n",
    "                ax.plot(detection_time, threshold, 'o', color=color, markersize=8)\n",
    "                ax.annotate(f'{obs} detects: t={detection_time}', \n",
    "                            xy=(detection_time, threshold),\n",
    "                            xytext=(detection_time+15, threshold+0.05),\n",
    "                            arrowprops=dict(arrowstyle='->'),\n",
    "                            color=color)\n",
    "    \n",
    "    # Add labels and title\n",
    "    ax.set_xlabel('Time (τ)', fontsize=14)\n",
    "    ax.set_ylabel('Entropy (S_obs)', fontsize=14)\n",
    "    ax.set_title('Observer-Dependent Entropy Retrieval (ODER)', fontsize=16)\n",
    "    \n",
    "    # Add grid and legend\n",
    "    ax.grid(True, alpha=0.3)\n",
    "    ax.legend(fontsize=12)\n",
    "    \n",
    "    # Set axis limits\n",
    "    ax.set_xlim(0, times[-1])\n",
    "    ax.set_ylim(0, 1.05)\n",
    "    \n",
    "    plt.tight_layout()\n",
    "    return fig, ax"
   ]
  },
  {
   "cell_type": "code",
   "execution_count": 152,
   "id": "45eb5bcf-f7ef-4c95-b78c-1acd7f204dda",
   "metadata": {},
   "outputs": [
    {
     "data": {
      "text/markdown": [
       "### Detection Times"
      ],
      "text/plain": [
       "<IPython.core.display.Markdown object>"
      ]
     },
     "metadata": {},
     "output_type": "display_data"
    },
    {
     "data": {
      "text/markdown": [
       "**O1**: 9"
      ],
      "text/plain": [
       "<IPython.core.display.Markdown object>"
      ]
     },
     "metadata": {},
     "output_type": "display_data"
    },
    {
     "data": {
      "text/markdown": [
       "**O2**: 71"
      ],
      "text/plain": [
       "<IPython.core.display.Markdown object>"
      ]
     },
     "metadata": {},
     "output_type": "display_data"
    },
    {
     "data": {
      "text/markdown": [
       "**O3**: 360"
      ],
      "text/plain": [
       "<IPython.core.display.Markdown object>"
      ]
     },
     "metadata": {},
     "output_type": "display_data"
    },
    {
     "data": {
      "text/markdown": [
       "### Final Entropy Values"
      ],
      "text/plain": [
       "<IPython.core.display.Markdown object>"
      ]
     },
     "metadata": {},
     "output_type": "display_data"
    },
    {
     "data": {
      "text/markdown": [
       "**O1**: 1.000000"
      ],
      "text/plain": [
       "<IPython.core.display.Markdown object>"
      ]
     },
     "metadata": {},
     "output_type": "display_data"
    },
    {
     "data": {
      "text/markdown": [
       "**O2**: 0.999700"
      ],
      "text/plain": [
       "<IPython.core.display.Markdown object>"
      ]
     },
     "metadata": {},
     "output_type": "display_data"
    },
    {
     "data": {
      "text/markdown": [
       "**O3**: 0.744500"
      ],
      "text/plain": [
       "<IPython.core.display.Markdown object>"
      ]
     },
     "metadata": {},
     "output_type": "display_data"
    },
    {
     "data": {
      "text/markdown": [
       "### Entropy Values at Select Time Points"
      ],
      "text/plain": [
       "<IPython.core.display.Markdown object>"
      ]
     },
     "metadata": {},
     "output_type": "display_data"
    },
    {
     "data": {
      "text/markdown": [
       "**Time 10:**"
      ],
      "text/plain": [
       "<IPython.core.display.Markdown object>"
      ]
     },
     "metadata": {},
     "output_type": "display_data"
    },
    {
     "data": {
      "text/markdown": [
       "- O1: 0.8035"
      ],
      "text/plain": [
       "<IPython.core.display.Markdown object>"
      ]
     },
     "metadata": {},
     "output_type": "display_data"
    },
    {
     "data": {
      "text/markdown": [
       "- O2: 0.0547"
      ],
      "text/plain": [
       "<IPython.core.display.Markdown object>"
      ]
     },
     "metadata": {},
     "output_type": "display_data"
    },
    {
     "data": {
      "text/markdown": [
       "- O3: 0.0025"
      ],
      "text/plain": [
       "<IPython.core.display.Markdown object>"
      ]
     },
     "metadata": {},
     "output_type": "display_data"
    },
    {
     "data": {
      "text/markdown": [
       "**Time 50:**"
      ],
      "text/plain": [
       "<IPython.core.display.Markdown object>"
      ]
     },
     "metadata": {},
     "output_type": "display_data"
    },
    {
     "data": {
      "text/markdown": [
       "- O1: 1.0000"
      ],
      "text/plain": [
       "<IPython.core.display.Markdown object>"
      ]
     },
     "metadata": {},
     "output_type": "display_data"
    },
    {
     "data": {
      "text/markdown": [
       "- O2: 0.5408"
      ],
      "text/plain": [
       "<IPython.core.display.Markdown object>"
      ]
     },
     "metadata": {},
     "output_type": "display_data"
    },
    {
     "data": {
      "text/markdown": [
       "- O3: 0.0530"
      ],
      "text/plain": [
       "<IPython.core.display.Markdown object>"
      ]
     },
     "metadata": {},
     "output_type": "display_data"
    },
    {
     "data": {
      "text/markdown": [
       "**Time 100:**"
      ],
      "text/plain": [
       "<IPython.core.display.Markdown object>"
      ]
     },
     "metadata": {},
     "output_type": "display_data"
    },
    {
     "data": {
      "text/markdown": [
       "- O1: 1.0000"
      ],
      "text/plain": [
       "<IPython.core.display.Markdown object>"
      ]
     },
     "metadata": {},
     "output_type": "display_data"
    },
    {
     "data": {
      "text/markdown": [
       "- O2: 0.8391"
      ],
      "text/plain": [
       "<IPython.core.display.Markdown object>"
      ]
     },
     "metadata": {},
     "output_type": "display_data"
    },
    {
     "data": {
      "text/markdown": [
       "- O3: 0.1741"
      ],
      "text/plain": [
       "<IPython.core.display.Markdown object>"
      ]
     },
     "metadata": {},
     "output_type": "display_data"
    },
    {
     "data": {
      "text/markdown": [
       "**Time 200:**"
      ],
      "text/plain": [
       "<IPython.core.display.Markdown object>"
      ]
     },
     "metadata": {},
     "output_type": "display_data"
    },
    {
     "data": {
      "text/markdown": [
       "- O1: 1.0000"
      ],
      "text/plain": [
       "<IPython.core.display.Markdown object>"
      ]
     },
     "metadata": {},
     "output_type": "display_data"
    },
    {
     "data": {
      "text/markdown": [
       "- O2: 0.9803"
      ],
      "text/plain": [
       "<IPython.core.display.Markdown object>"
      ]
     },
     "metadata": {},
     "output_type": "display_data"
    },
    {
     "data": {
      "text/markdown": [
       "- O3: 0.4306"
      ],
      "text/plain": [
       "<IPython.core.display.Markdown object>"
      ]
     },
     "metadata": {},
     "output_type": "display_data"
    },
    {
     "data": {
      "text/markdown": [
       "**Time 350:**"
      ],
      "text/plain": [
       "<IPython.core.display.Markdown object>"
      ]
     },
     "metadata": {},
     "output_type": "display_data"
    },
    {
     "data": {
      "text/markdown": [
       "- O1: 1.0000"
      ],
      "text/plain": [
       "<IPython.core.display.Markdown object>"
      ]
     },
     "metadata": {},
     "output_type": "display_data"
    },
    {
     "data": {
      "text/markdown": [
       "- O2: 0.9992"
      ],
      "text/plain": [
       "<IPython.core.display.Markdown object>"
      ]
     },
     "metadata": {},
     "output_type": "display_data"
    },
    {
     "data": {
      "text/markdown": [
       "- O3: 0.6885"
      ],
      "text/plain": [
       "<IPython.core.display.Markdown object>"
      ]
     },
     "metadata": {},
     "output_type": "display_data"
    }
   ],
   "source": [
    "times, S_obs, detection_times, observers, threshold = run_oder_simulation()\n",
    "\n",
    "# Display detection times with Markdown for better formatting\n",
    "display(Markdown(\"### Detection Times\"))\n",
    "for k, time in detection_times.items():\n",
    "    display(Markdown(f\"**{k}**: {time}\"))\n",
    "\n",
    "# Display final entropy values\n",
    "display(Markdown(\"### Final Entropy Values\"))\n",
    "for k in observers:\n",
    "    display(Markdown(f\"**{k}**: {S_obs[k][-1]:.6f}\"))\n",
    "\n",
    "# Display entropy values at key time points\n",
    "display(Markdown(\"### Entropy Values at Select Time Points\"))\n",
    "check_times = [10, 50, 100, 200, 350]\n",
    "for t in check_times:\n",
    "    idx = int(t/dt)\n",
    "    display(Markdown(f\"**Time {t}:**\"))\n",
    "    for k in observers:\n",
    "        display(Markdown(f\"- {k}: {S_obs[k][idx]:.4f}\"))"
   ]
  },
  {
   "cell_type": "code",
   "execution_count": 154,
   "id": "fcc634c1-a825-4ac7-b744-8737cfad52ab",
   "metadata": {},
   "outputs": [
    {
     "data": {
      "image/png": "[encoded data removed]",
      "text/plain": [
       "<Figure size 1200x700 with 1 Axes>"
      ]
     },
     "metadata": {},
     "output_type": "display_data"
    }
   ],
   "source": [
    "fig, ax = create_oder_plot(times, S_obs, detection_times, threshold)\n",
    "plt.show()"
   ]
  },
  {
   "cell_type": "code",
   "execution_count": null,
   "id": "b60ff334-4496-4c8c-9818-33dbd1f8dd5e",
   "metadata": {},
   "outputs": [],
   "source": []
  }
 ],
 "metadata": {
  "kernelspec": {
   "display_name": "Python [conda env:base] *",
   "language": "python",
   "name": "conda-base-py"
  },
  "language_info": {
   "codemirror_mode": {
    "name": "ipython",
    "version": 3
   },
   "file_extension": ".py",
   "mimetype": "text/x-python",
   "name": "python",
   "nbconvert_exporter": "python",
   "pygments_lexer": "ipython3",
   "version": "3.12.7"
  }
 },
 "nbformat": 4,
 "nbformat_minor": 5
}
